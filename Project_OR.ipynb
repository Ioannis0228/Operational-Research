{
 "cells": [
  {
   "cell_type": "markdown",
   "id": "695f6741",
   "metadata": {},
   "source": [
    "# Εργασία Μαθήματος Επιχειρησιακής Έρευνας<br>\n",
    "## Ιωάννης Ορθοδόξου ΑΕΜ: 10822 <br>\n",
    "### Σχεδιασμός Εβδομαδιαίου Προγράμματος Μαθημάτων"
   ]
  },
  {
   "cell_type": "markdown",
   "id": "b0b3ce1b",
   "metadata": {},
   "source": [
    "Το πρώτο πρόβλημα που έχουμε να λύσουμε, είναι ένα πρόβλημα δυαδικού προγραμματισμού αφού μπορούμε να χρησιμοποιήσουμε μεταβλητές απόφασης που είναι δύαδικές. Θα ορίσουμε τις μεταβλητές απόφασης ως εξής: \n",
    "$$X_{Teacher,Class,Day,Hour}$$\n",
    "όπου για κάθε καθηγητή, για κάθε τμήμα, για κάθε ώρα και μέρα θα έχουμε μια μεταβλητή η όποια θα είναι 1 όταν ο καθηγητής διδάσκει στο συγκεκριμένο τμήμα, την συγκεκριμένη ώρα και μέρα. Σε αντίθετη περίπτωση η μεταβλητή μας θα παίρνει την τιμή 0."
   ]
  },
  {
   "cell_type": "code",
   "execution_count": 17,
   "id": "44997494",
   "metadata": {
    "scrolled": false
   },
   "outputs": [],
   "source": [
    "import gurobipy as gp\n",
    "from gurobipy import GRB\n",
    "import pandas as pd\n",
    "model1 = gp.Model(\"Weekly_Timetable\")\n",
    "model1.setParam('OutputFlag', 0) # Suppress all Gurobi logs"
   ]
  },
  {
   "cell_type": "markdown",
   "id": "cf4cd28b",
   "metadata": {},
   "source": [
    "Παρακάτω προσθέτουμε τα δέδομένα μας έτσι όπως δίνονται στην εκφώνηση της εργασίας. Η μεταβλητή teacher_hours περιέχει τα ονόματα των καθηγητών και τις ώρες που διδάσκουν σε κάθε τμήμα. Η λίστα classes περιέχει τα δύο τμήματα, οι πέντε μέρες της εβδομάδας περιέχονται στην λίστα days, ενώ στην λίστα hours περιέχονται οι χρονικές ζώνες όπου διδάσκονται τα μαθήματα. Για παράραδειγμα η πρώτη χρονική ζώνη αντιστοιχεί στις ώρες 8:00 - 10:00."
   ]
  },
  {
   "cell_type": "code",
   "execution_count": 18,
   "id": "e27ee73c",
   "metadata": {},
   "outputs": [],
   "source": [
    "teachers_hours = {'Gesmanidis': [1, 1],\n",
    "                 'Insoulina': [3, 3],\n",
    "                 'Xartoula': [2, 2],\n",
    "                 'Lathopraksis': [0, 4], \n",
    "                 'Antiparagogos': [4, 0], \n",
    "                 'Kirkofidou': [3, 3], \n",
    "                 'Platiazon': [1, 1], \n",
    "                 'Mpratsakis': [1, 0], \n",
    "                 'Trexalitoula': [0, 1]\n",
    "}\n",
    "\n",
    "lessons = ['English',\n",
    "           'Biology',\n",
    "           'Hist - Geo',\n",
    "           'Mathematics',\n",
    "           'Mathematics',\n",
    "           'Physics',\n",
    "           'Philosophy',\n",
    "           'PE',\n",
    "           'PE']\n",
    "\n",
    "classes = ['Class_1', 'Class_2']\n",
    "days = ['Monday', 'Tuesday', 'Wednesday', 'Thursday', 'Friday']\n",
    "hours = [1,2,3,4]"
   ]
  },
  {
   "cell_type": "markdown",
   "id": "38cf5ffa",
   "metadata": {},
   "source": [
    "Έπειτα, θα εισάγουμε στο μοντέλο μας όλες τις μεταβλητές απόφασης."
   ]
  },
  {
   "cell_type": "code",
   "execution_count": 19,
   "id": "42ed57a6",
   "metadata": {},
   "outputs": [],
   "source": [
    "x = {}\n",
    "for teacher, (hours_per_class) in teachers_hours.items():\n",
    "    for class_ in classes:\n",
    "        for day in days:\n",
    "            for hour in hours:\n",
    "                x[teacher, class_, day, hour] = model1.addVar(\n",
    "                    vtype=GRB.BINARY,\n",
    "                    name=f\"x[{teacher},{class_},{day},{hour}]\"\n",
    "                )"
   ]
  },
  {
   "cell_type": "markdown",
   "id": "b7a5c33a",
   "metadata": {},
   "source": [
    "Ο πρώτος περιορισμός που έχουμε είναι ότι ο κάθε καθηγητής πρέπει να καλύψει τις ώρες διδασκαλίας που του αναλόγουν στο κάθε τμήμα και να μην διδάσκει ταυτόχρονα την ίδια μερα και ώρα και στα 2 τμήματα. Ακόμη δεν πρέπει δύο οι περισσότεροι καθηγητές να διδάσκουν την ίδια ώρα και μέρα στο ίδιο τμήμα. Επομένως, ο πρώτος περιορισμός θα είναι το άθροισμα των μετάβλητων που έχουν ίδιο καθηγητή και ίδιο τμήμα να είναι ίσες με τις ώρες που αναλογούν στο συγκεκριμένο τμήμα από τον συγκεκριμένο καθηγητή. Ο επόμενος περιορισμός, είναι το άθροισμα των μεταβλήτων που έχουν ίδιο καθηγητή, ίδια ώρα και μέρα αλλά διαφορετικό τμήμα το οποίο θα είναι μικρότερο ή ίσο με 1. Ο τρίτος περιορισμός θα είναι το άθροισμα των μεταβλητών που έχουν διαφορετικό καθηγητή, ίδια ώρα και μέρα και ίδιο τμήμα το οποίο θα είναι μικρότερο ή ίσο με 1.\n",
    "$$\\sum_{d}^{5}\\sum_{h}^{4}X_{T,C,d,h} = required\\_hours_{T} \\quad \\forall \\space T,C$$ \n",
    "$$\\sum_{c}^{2}X_{T,c,D,H} <= 1 \\quad \\forall T,D,H$$\n",
    "$$\\sum_{t}^{9}X_{t,C,D,H} <= 1 \\quad \\forall \\space C,D,H$$\n",
    "με T = Teacher, C = Class, D = Day, H = Hour"
   ]
  },
  {
   "cell_type": "code",
   "execution_count": 20,
   "id": "fee15835",
   "metadata": {},
   "outputs": [],
   "source": [
    "# 1 Constraint:\n",
    "for teacher, (hours_per_class) in teachers_hours.items():\n",
    "    for i, class_ in enumerate(classes):\n",
    "        required_hours = hours_per_class[i]\n",
    "        model1.addConstr(\n",
    "                gp.quicksum(\n",
    "                    x[teacher, class_, d, h]\n",
    "                    for d in days for h in hours\n",
    "                ) == required_hours,\n",
    "                name=f\"hours_{teacher}_{class_}\"\n",
    "            )\n",
    "\n",
    "# 2 Constraint:\n",
    "for teacher in teachers_hours.keys():\n",
    "    for day in days:\n",
    "        for hour in hours:\n",
    "            model1.addConstr(\n",
    "                gp.quicksum(x[teacher, class_, day, hour]\n",
    "                            for class_ in classes\n",
    "                ) <= 1,\n",
    "                name=f\"no_overlap_{teacher}_{day}_{hour}\"\n",
    "            )\n",
    "\n",
    "# 3 Constraint:\n",
    "for class_ in classes:\n",
    "    for day in days:\n",
    "        for hour in hours:\n",
    "            model1.addConstr(\n",
    "                gp.quicksum(x[teacher, class_, day, hour]\n",
    "                            for teacher in teachers_hours.keys()\n",
    "                )<= 1,\n",
    "                name=f\"one_teacher_per_hour_{class_}_{day}_{hour}\"\n",
    "            )"
   ]
  },
  {
   "cell_type": "markdown",
   "id": "96f3311b",
   "metadata": {},
   "source": [
    "Ο επόμενος περιορισμός είναι το μάθημα τις φυσικής αγωγής να διδάσκεται την Πέμπτη μόνο την 3η ζώνη ώρας (14:00 - 16:00). Ο περιορισμός αυτός είναι η μεταβλητη απόφασης που έχει τον κ.Μπρατσάκη, το τμήμα 1 την Πέμπτη στην τρίτη ζώνη ώρας να ισούται με 1 και αντίστοιχα την κ.Τρεχαλητούλα, το τμήμα 2 την Πέμπτη στην τρίτη ζώνη ώρας να ισούται με 1.\n",
    "$$X_{Mpratsakis,Class_1,Thursday,3} = 1 $$ \n",
    "$$X_{Trexalitoula,Class_2,Thursday,3} = 1 $$ "
   ]
  },
  {
   "cell_type": "code",
   "execution_count": 21,
   "id": "e530f221",
   "metadata": {},
   "outputs": [],
   "source": [
    "# 4 Constraint:\n",
    "model1.addConstr(x['Mpratsakis','Class_1','Thursday',3] == 1,\n",
    "                 name=f\"PE_restriction_Mpratsakis_Class_1_Thursday_3\")\n",
    "\n",
    "model1.addConstr(x['Trexalitoula','Class_2','Thursday',3] == 1,\n",
    "                 name=f\"PE_restriction_Trexalitoula_Class_2_Thursday_3\")\n",
    "model1.update()"
   ]
  },
  {
   "cell_type": "markdown",
   "id": "c9dd3683",
   "metadata": {},
   "source": [
    "Για την οργάνωση μελέτης της εβδομάδας η πρώτη ζώνη ώρας το πρώι της Δευτέρας είναι κρατημένη και επομένως <b>δεν θα βάλουμε κάποιο μάθημα</b>. Άρα ο περιορισμός που προκύπτει είναι η μεταβλητή που περιέχει την Δευτέρα και την πρώτη ζώνη ώρας, για όλους του καθηγητές και στα δύο τμήματα να είναι 0. \n",
    "$$X_{T,C,Monday,1} = 0 \\quad \\forall \\space T,C$$ "
   ]
  },
  {
   "cell_type": "code",
   "execution_count": 22,
   "id": "7b41304b",
   "metadata": {},
   "outputs": [],
   "source": [
    "# 5 Constraint:\n",
    "for teacher in teachers_hours.keys():\n",
    "    for class_ in classes:\n",
    "         model1.addConstr(x[teacher, class_, 'Monday', 1] == 0,\n",
    "                          name=f\"no_mon1_{teacher}_{class_}\")"
   ]
  },
  {
   "cell_type": "markdown",
   "id": "ea0cd2e6",
   "metadata": {},
   "source": [
    "Ο επόμενος περιορισμός είναι είναι πως ο κ.Λαθοπράξης απουσιάζει κάθε Δευτέρα πρωί και επομένως δεν θα μπορέι να διδάσκει. Άρα η μεταβλητή που έχει τον κ.Λαθοπράξη στο τμήμα 2 την Δευτέρα με τις 2 πρώτες ζώνες ώρας θα πρέπει να είναι 0. \n",
    "$$X_{Lathopraksis,Class_2,Monday,H} = 0 \\quad  \\space ,H \\in [1,2]$$ "
   ]
  },
  {
   "cell_type": "code",
   "execution_count": 23,
   "id": "5cc2f944",
   "metadata": {},
   "outputs": [],
   "source": [
    "# 6 Constraint:\n",
    "for hour in [1, 2]:\n",
    "    model1.addConstr(x['Lathopraksis', 'Class_2', 'Monday', hour] == 0,\n",
    "                     name=f\"no_work_Lathospraksis_Mon_{class_}_{hour}\")"
   ]
  },
  {
   "cell_type": "markdown",
   "id": "9d92fe5b",
   "metadata": {},
   "source": [
    "Ο περιορισμός για το ότι η κ.Ινσουλίνα δεν εργάζεται τις Τετάρτες είναι ότι η μεταβλητή που έχει την κ.Ινσουλίνα και την Τετάρτη για οποιαδήποτε ώρα και τμήμα θα πρέπει να είναι 0. \n",
    "$$X_{Insoulina,C,Wednesday,H} = 0 \\quad \\forall \\space C,H$$ "
   ]
  },
  {
   "cell_type": "code",
   "execution_count": 24,
   "id": "80aaf152",
   "metadata": {},
   "outputs": [],
   "source": [
    "# 7 Constraint:\n",
    "for class_ in classes:\n",
    "    for hour in hours:\n",
    "        model1.addConstr(x['Insoulina', class_, 'Wednesday', hour] == 0,\n",
    "                         name=f\"no_work_Insoulina_Wed_{class_}_{hour}\")"
   ]
  },
  {
   "cell_type": "markdown",
   "id": "b13de43b",
   "metadata": {},
   "source": [
    "Τέλος για την αποφυγεί της πλήξης των μαθήτων δεν πρέπει να έχουν περισσότερες από 1 φορά με τον ίδιο καθηγητή στην ίδια μέρα. Επομένως θέλουμε το άθροισμα των μετάβλητών με τον ίδιο καθηγητή την ίδιο τμήμα, ίδια μέρα αλλά διαφορετική ώρα να είναι μικρότερο ή ίσο με 1.\n",
    "$$\\sum_{h}^{4}X_{T,C,D,h} <= 1 \\quad \\forall \\space T,C,D $$ "
   ]
  },
  {
   "cell_type": "code",
   "execution_count": 25,
   "id": "e2854c22",
   "metadata": {},
   "outputs": [],
   "source": [
    "# 8 Constraint:\n",
    "for teacher in teachers_hours.keys():\n",
    "    for class_ in classes:\n",
    "        for day in days:\n",
    "            model1.addConstr(\n",
    "                gp.quicksum(\n",
    "                    x[teacher, class_, day, hour]\n",
    "                    for hour in hours\n",
    "                    if (teacher, class_, day, hour) in x\n",
    "                ) <= 1,\n",
    "                name=f\"one_lesson_per_day_{teacher}_{class_}_{day}\"\n",
    "            )"
   ]
  },
  {
   "cell_type": "markdown",
   "id": "581eb5eb",
   "metadata": {},
   "source": [
    "Έπειτα αφού δεν έχουμε κάποιο συγκεκριμένο στόχο για να ελαχιστοποιήσουμε ή να μεγιστοποιήσουμε δεν έχουμε και αντικειμενική συνάρτηση και τρέχουμε απλά την συνάρτηση optimaze() έτσι ώστε να βρούμε μια εφικτή λύση."
   ]
  },
  {
   "cell_type": "code",
   "execution_count": 26,
   "id": "7baf1f94",
   "metadata": {},
   "outputs": [
    {
     "name": "stdout",
     "output_type": "stream",
     "text": [
      "\n",
      "Timetable Class_1:\n",
      "\n",
      "        Monday     Tuesday    Wednesday     Thursday       Friday\n",
      "1               Hist - Geo      Physics      Biology  Mathematics\n",
      "2      Physics     Physics   Philosophy   Hist - Geo             \n",
      "3  Mathematics              Mathematics           PE      English\n",
      "4      Biology                           Mathematics      Biology\n",
      "\n",
      "Timetable Class_2:\n",
      "\n",
      "        Monday      Tuesday    Wednesday     Thursday      Friday\n",
      "1                   Biology  Mathematics                  Biology\n",
      "2   Hist - Geo  Mathematics               Mathematics            \n",
      "3      Biology   Philosophy                        PE     Physics\n",
      "4  Mathematics      Physics      Physics      English  Hist - Geo\n"
     ]
    }
   ],
   "source": [
    "model1.optimize()\n",
    "    \n",
    "programs = {class_: pd.DataFrame('', index=hours, columns=days) for class_ in classes}\n",
    "\n",
    "# --- Εκτύπωση Λύσης ---\n",
    "if model1.status == GRB.OPTIMAL:\n",
    "    for key, var in x.items():\n",
    "        if var.X > 0.5:\n",
    "            teacher, class_, day, hour = key\n",
    "            cell_value = f\"{lessons[list(teachers_hours.keys()).index(teacher)]}\"\n",
    "            programs[class_].loc[hour, day] = cell_value\n",
    "else:\n",
    "    print(\"Δεν βρέθηκε λύση\")\n",
    "\n",
    "for class_, df in programs.items():\n",
    "    print(f\"\\nTimetable {class_}:\\n\")\n",
    "    print(df.to_string())"
   ]
  },
  {
   "cell_type": "markdown",
   "id": "9bc6bda6",
   "metadata": {},
   "source": [
    "Όπως μπορούμε να δούμε από το αποτέλεσμα που έχουμε ικανοποιούνται όλοι οι χρονικοί περιορισμοί των μαθημάτων αλλά και οι απουσίες των καθηγητών.  "
   ]
  },
  {
   "cell_type": "markdown",
   "id": "ed9d79d8",
   "metadata": {},
   "source": [
    "### Βέλτιστη Χωροθέτηση Αποθηκών <br>\n",
    "Το δεύτερο πρόβλημα που έχουμε να λύσουμε είναι ένα προβλημα ακέραιου προγραματισμού.\n",
    "Αρχικά θα εισάγουμε τα δεδομένα που μας δίνει η εκφώνηση. Σε ένα πίνακα θα χρειαστεί να υπολογίσουμε το κόστος μεταφοράς ανά τόνο απο μία αποθήκη σε ένα κέντρο πώλησης. Για να το κάνουμε αυτό, διαιρούμε το κόστος για την κάλυψη της συνολικής ζήτησης κάθε κέντρου πώλησης από μία αποθήκη με τη ζήτηση της αποθήκης."
   ]
  },
  {
   "cell_type": "code",
   "execution_count": 27,
   "id": "682a4632",
   "metadata": {},
   "outputs": [],
   "source": [
    "warehouses = range(12)\n",
    "centers = range(12)\n",
    "\n",
    "costs_install = [3500, 9000, 10000, 4000, 3000, 9000, 9000, 3000, 4000, 10000, 9000, 3500]\n",
    "\n",
    "capacity = [300, 250, 100, 180, 275, 300, 200, 220, 270, 250, 230, 180]\n",
    "\n",
    "demand = [120, 80, 75, 100, 110, 100, 90, 60, 30, 150, 95, 120] \n",
    "\n",
    "INF = 1e9\n",
    "\n",
    "cost_trans_all = [\n",
    "    [100, 80 , 50 , 50 , 60 , 100, 120, 90 , 60 , 70 , 65 , 110],\n",
    "    [120, 90 , 60 , 70 , 65 , 110, 140, 110, 80 , 80 , 75 , 130],\n",
    "    [140, 110, 80 , 80 , 75 , 130, 160, 125, 100, 100, 80 , 150],\n",
    "    [160, 125, 100, 100, 80 , 150, 190, 150, 130, INF, INF, INF],\n",
    "    [190, 150, 130, INF, INF, INF, 180, 150, 50 , 50 , 60 , 100],\n",
    "    [200, 180, 150, INF, INF, INF, 100, 120, 90 , 60 , 75 , 110],\n",
    "    [120, 90 , 60 , 70 , 65 , 110, 140, 110, 80 , 80 , 75 , 130],\n",
    "    [120, 90 , 60 , 70 , 65 , 110, 140, 110, 80 , 80 , 75 , 130],\n",
    "    [140, 110, 80 , 80 , 75 , 130, 160, 125, 100, 100, 80 , 150],\n",
    "    [160, 125, 100, 100, 80 , 150, 190, 150, 130, INF, INF, INF],\n",
    "    [190, 150, 130, INF, INF, INF, 200, 180, 150, INF, INF, INF],\n",
    "    [200, 180, 150, INF, INF, INF, 100, 80 , 50 , 50 , 60 , 100]\n",
    "]\n",
    "\n",
    "cost_trans_per_ton = [[0 for j in range(12)] for i in range(12)]\n",
    "for i in warehouses:\n",
    "    for j in centers:\n",
    "        cost_trans_per_ton[i][j] = cost_trans_all[i][j] / demand[j]"
   ]
  },
  {
   "cell_type": "markdown",
   "id": "3e87509d",
   "metadata": {},
   "source": [
    "Έπειτα θα εισάγουμε τις μεταβλητές απόφασεις στο μοντέλο μας. Οι μεταβλητές απόφασεις θα είναι: \n",
    "* $ y_i $ = Η αποθήκη i θα ανοίξει ή όχι και θα είναι δυαδική μεταβλητη  \n",
    "* $ x_{ij} $ = Τόνοι που στέλνει η αποθήκη i στο κέντρο j και επομένως θα είναι συνεχής μεταβλητη. "
   ]
  },
  {
   "cell_type": "code",
   "execution_count": 28,
   "id": "7c23040b",
   "metadata": {},
   "outputs": [],
   "source": [
    "model2 = gp.Model(\"Warehouse_Location\")\n",
    "model2.setParam('OutputFlag', 0) # Suppress all Gurobi logs\n",
    "y = model2.addVars(warehouses, vtype=GRB.BINARY, name=\"y\")\n",
    "\n",
    "x = model2.addVars(warehouses,centers, vtype=GRB.CONTINUOUS, name=\"x\")"
   ]
  },
  {
   "cell_type": "markdown",
   "id": "50ef1e46",
   "metadata": {},
   "source": [
    "Ένας περιορισμός που έχουμε είναι πως η ζήτηση κάθε κέντρου πώλησης θα καλύπτεται πλήρως. Αυτός ο περιορισμός είναι το άθροισμα όλων των μεταβλητων x με ίδιο j (κέντρο) για όλα τα i (αποθήκες), να είναι ίσο με την ζήτηση του κέντρου.\n",
    "$$\\sum_{i=1}^{12}x_{ij} = demand_j \\quad \\forall j $$"
   ]
  },
  {
   "cell_type": "code",
   "execution_count": 29,
   "id": "feaaab9c",
   "metadata": {},
   "outputs": [],
   "source": [
    "for center in centers:\n",
    "    model2.addConstr(\n",
    "        gp.quicksum(\n",
    "            x[warehouse,center] \n",
    "            for warehouse in warehouses\n",
    "        ) == demand[center],\n",
    "        name=f\"demand_{center}\"\n",
    "    )"
   ]
  },
  {
   "cell_type": "markdown",
   "id": "4e6d32bc",
   "metadata": {},
   "source": [
    "Ένας άλλος περιορισμός που έχουμε είναι ότι η ποσότητα που στέλνει η αποθήκη δεν μπορεί να ξεπερνάει την χωρητικότητα της. Αυτός ο περιορισμός είναι το άθροισμα όλων των μεταβλητών x με ίδιο i (αποθήκη) για όλα τα j (κέντρα), να είναι ίσο ή μικρότερο της χωρήτικότητας της αποθήκης πολλαπλασιασμένη με την μεταβλητή $y_i$ \n",
    "$$\\sum_{j=1}^{12}x_{ij} \\leq capacity_i \\cdot y_i\\quad \\forall i $$"
   ]
  },
  {
   "cell_type": "code",
   "execution_count": 30,
   "id": "9e3d5db6",
   "metadata": {},
   "outputs": [],
   "source": [
    "for warehouse in warehouses:\n",
    "    model2.addConstr(\n",
    "        gp.quicksum(\n",
    "            x[warehouse,center] \n",
    "            for center in centers\n",
    "        ) <= capacity[warehouse] * y[warehouse], name=f'capacity_{i}'\n",
    "    )"
   ]
  },
  {
   "cell_type": "markdown",
   "id": "3e64aed2",
   "metadata": {},
   "source": [
    "Καταλήγουμε στο ότι θέλουμε να ελαχιστοποιήσουμε το κόστος και άρα να ελαχιστοποιήσουμε την αντικειμενική συναρτηση η οποία είναι τα αθροίσματα των κοστών: \n",
    "$$Minimize \\sum_{i}cost\\_install_i \\cdot y_i + \\sum_{i,j} cost\\_per\\_ton_{i,j} \\cdot x_{ij}$$ "
   ]
  },
  {
   "cell_type": "code",
   "execution_count": 31,
   "id": "7a290bba",
   "metadata": {},
   "outputs": [
    {
     "name": "stdout",
     "output_type": "stream",
     "text": [
      "Βρέθηκε βέλτιστη λύση.\n",
      "Αποθήκη 1 άνοιξε\n",
      "Αποθήκη 5 άνοιξε\n",
      "Αποθήκη 8 άνοιξε\n",
      "Αποθήκη 9 άνοιξε\n",
      "Αποθήκη 12 άνοιξε\n",
      "Αποθήκη 1 στέλνει 120.00 τόνους στο κέντρο 1\n",
      "Αποθήκη 1 στέλνει 5.00 τόνους στο κέντρο 2\n",
      "Αποθήκη 1 στέλνει 75.00 τόνους στο κέντρο 3\n",
      "Αποθήκη 1 στέλνει 100.00 τόνους στο κέντρο 4\n",
      "Αποθήκη 5 στέλνει 150.00 τόνους στο κέντρο 10\n",
      "Αποθήκη 5 στέλνει 5.00 τόνους στο κέντρο 11\n",
      "Αποθήκη 5 στέλνει 120.00 τόνους στο κέντρο 12\n",
      "Αποθήκη 8 στέλνει 75.00 τόνους στο κέντρο 2\n",
      "Αποθήκη 8 στέλνει 45.00 τόνους στο κέντρο 5\n",
      "Αποθήκη 8 στέλνει 100.00 τόνους στο κέντρο 6\n",
      "Αποθήκη 9 στέλνει 65.00 τόνους στο κέντρο 5\n",
      "Αποθήκη 9 στέλνει 90.00 τόνους στο κέντρο 11\n",
      "Αποθήκη 12 στέλνει 90.00 τόνους στο κέντρο 7\n",
      "Αποθήκη 12 στέλνει 60.00 τόνους στο κέντρο 8\n",
      "Αποθήκη 12 στέλνει 30.00 τόνους στο κέντρο 9\n",
      "Συνολικό κόστος: 17929.23\n"
     ]
    }
   ],
   "source": [
    "model2.setObjective(\n",
    "    gp.quicksum(\n",
    "        costs_install[i] * y[i]\n",
    "        for i in warehouses) +\n",
    "    gp.quicksum(\n",
    "        cost_trans_per_ton[i][j] * x[i,j]\n",
    "        for i in warehouses for j in centers\n",
    "    ),\n",
    "    GRB.MINIMIZE \n",
    ")\n",
    "\n",
    "model2.optimize()\n",
    "\n",
    "if model2.status == GRB.OPTIMAL:\n",
    "    print(\"Βρέθηκε βέλτιστη λύση.\")\n",
    "elif model2.status == GRB.INFEASIBLE:\n",
    "    print(\"Το μοντέλο είναι αδύνατο.\")\n",
    "\n",
    "\n",
    "for i in warehouses:\n",
    "    if y[i].X > 0.5:\n",
    "        print(f\"Αποθήκη {i+1} άνοιξε\")\n",
    "\n",
    "for i in warehouses:\n",
    "    for j in centers:\n",
    "        if x[i,j].X > 0:\n",
    "            print(f\"Αποθήκη {i+1} στέλνει {x[i,j].X:.2f} τόνους στο κέντρο {j+1}\")\n",
    "\n",
    "print(f\"Συνολικό κόστος: {model2.ObjVal:.2f}\")\n"
   ]
  },
  {
   "cell_type": "code",
   "execution_count": 32,
   "id": "30287aa6",
   "metadata": {},
   "outputs": [
    {
     "name": "stdout",
     "output_type": "stream",
     "text": [
      "Αποθήκη 1: Αποσταλμένη ποσότητα = 300.00, Χωρητικότητα = 300\n",
      "Αποθήκη 2: Αποσταλμένη ποσότητα = 0.00, Χωρητικότητα = 250\n",
      "Αποθήκη 3: Αποσταλμένη ποσότητα = 0.00, Χωρητικότητα = 100\n",
      "Αποθήκη 4: Αποσταλμένη ποσότητα = 0.00, Χωρητικότητα = 180\n",
      "Αποθήκη 5: Αποσταλμένη ποσότητα = 275.00, Χωρητικότητα = 275\n",
      "Αποθήκη 6: Αποσταλμένη ποσότητα = 0.00, Χωρητικότητα = 300\n",
      "Αποθήκη 7: Αποσταλμένη ποσότητα = 0.00, Χωρητικότητα = 200\n",
      "Αποθήκη 8: Αποσταλμένη ποσότητα = 220.00, Χωρητικότητα = 220\n",
      "Αποθήκη 9: Αποσταλμένη ποσότητα = 155.00, Χωρητικότητα = 270\n",
      "Αποθήκη 10: Αποσταλμένη ποσότητα = 0.00, Χωρητικότητα = 250\n",
      "Αποθήκη 11: Αποσταλμένη ποσότητα = 0.00, Χωρητικότητα = 230\n",
      "Αποθήκη 12: Αποσταλμένη ποσότητα = 180.00, Χωρητικότητα = 180\n",
      "Κέντρο 1: Ληφθείσα ποσότητα = 120.00, Ζήτηση = 120\n",
      "Κέντρο 2: Ληφθείσα ποσότητα = 80.00, Ζήτηση = 80\n",
      "Κέντρο 3: Ληφθείσα ποσότητα = 75.00, Ζήτηση = 75\n",
      "Κέντρο 4: Ληφθείσα ποσότητα = 100.00, Ζήτηση = 100\n",
      "Κέντρο 5: Ληφθείσα ποσότητα = 110.00, Ζήτηση = 110\n",
      "Κέντρο 6: Ληφθείσα ποσότητα = 100.00, Ζήτηση = 100\n",
      "Κέντρο 7: Ληφθείσα ποσότητα = 90.00, Ζήτηση = 90\n",
      "Κέντρο 8: Ληφθείσα ποσότητα = 60.00, Ζήτηση = 60\n",
      "Κέντρο 9: Ληφθείσα ποσότητα = 30.00, Ζήτηση = 30\n",
      "Κέντρο 10: Ληφθείσα ποσότητα = 150.00, Ζήτηση = 150\n",
      "Κέντρο 11: Ληφθείσα ποσότητα = 95.00, Ζήτηση = 95\n",
      "Κέντρο 12: Ληφθείσα ποσότητα = 120.00, Ζήτηση = 120\n"
     ]
    }
   ],
   "source": [
    "for i in warehouses:\n",
    "    total_sent = sum(x[i,j].X for j in centers)\n",
    "    cap = capacity[i]\n",
    "    print(f\"Αποθήκη {i+1}: Αποσταλμένη ποσότητα = {total_sent:.2f}, Χωρητικότητα = {cap}\")\n",
    "    if total_sent > cap:\n",
    "        print(f\"ΠΡΟΒΛΗΜΑ: Υπέρβαση χωρητικότητας!\")\n",
    "\n",
    "for j in centers:\n",
    "    total_received = sum(x[i,j].X for i in warehouses)\n",
    "    demand_j = demand[j]\n",
    "    print(f\"Κέντρο {j+1}: Ληφθείσα ποσότητα = {total_received:.2f}, Ζήτηση = {demand_j}\")\n",
    "    if abs(total_received - demand_j) > 0:\n",
    "        print(f\"ΠΡΟΒΛΗΜΑ: Ζήτηση μη καλυφθείσα ή υπερκαλυφθείσα!\")\n",
    "\n",
    "for i in warehouses:\n",
    "    if y[i].X < 0.5:\n",
    "        total_sent = sum(x[i,j].X for j in centers)\n",
    "        if total_sent > 0:\n",
    "            print(f\"ΠΡΟΒΛΗΜΑ: Αποθήκη {i+1} είναι κλειστή αλλά στέλνει {total_sent:.2f}\")\n"
   ]
  },
  {
   "cell_type": "markdown",
   "id": "50597d4b",
   "metadata": {},
   "source": [
    "Όπως μπορουμε να δούμε όλες οι αποθήκες στέλνουν μικρότερη ή ιση ποσότητα με αυτή της χωρητικότητας τους και όλα τα κέντρα πώλησης λαμβάνουν την ποσότητα την όποια ζητούν. "
   ]
  }
 ],
 "metadata": {
  "kernelspec": {
   "display_name": "base",
   "language": "python",
   "name": "python3"
  },
  "language_info": {
   "codemirror_mode": {
    "name": "ipython",
    "version": 3
   },
   "file_extension": ".py",
   "mimetype": "text/x-python",
   "name": "python",
   "nbconvert_exporter": "python",
   "pygments_lexer": "ipython3",
   "version": "3.10.9"
  }
 },
 "nbformat": 4,
 "nbformat_minor": 5
}
